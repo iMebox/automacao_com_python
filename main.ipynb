{
 "cells": [
  {
   "cell_type": "markdown",
   "id": "a7447279",
   "metadata": {},
   "source": [
    "# Automação de Sistemas e Processos com Python\n",
    "\n",
    "### Desafio:\n",
    "\n",
    "Para controle de custos, todos os dias, seu chefe pede um relatório com todas as compras de mercadorias da empresa.\n",
    "O seu trabalho, como analista, é enviar um e-mail para ele, assim que começar a trabalhar, com o total gasto, a quantidade de produtos compradas e o preço médio dos produtos.\n",
    "\n",
    "E-mail do seu chefe: para o nosso exercício, coloque um e-mail seu como sendo o e-mail do seu chefe<br>\n",
    "Link de acesso ao sistema da empresa: https://pages.hashtagtreinamentos.com/aula1-intensivao-sistema\n",
    "\n",
    "### Solução: \n",
    "\n",
    "Nesta solução eu levei em consideração que os comandos serão executados a partir de um Browser, previamente aberto, e em um ambiente Windows. \n",
    "\n",
    "Foi utilizado para a solução o editor de código Jupyter Notebook e o Browser OperaGX.\n",
    "\n",
    "Falando de bibliotecas, utilizei em minha solução a biblioteca *pyautogui* para automatizar os controles do usuário (mouse e teclado), a biblioteca *pandas* para manipulação dos dados contidos na tabela Compras.csv, *times* para atribuir pausas durante a execução, *pyperclip* para uma operação especifica de copy and paste e, por fim, a biblioteca *emoji* para utilização de emoji na mensagem final da aplicação. \n"
   ]
  },
  {
   "cell_type": "code",
   "execution_count": 6,
   "id": "ca33d7af",
   "metadata": {},
   "outputs": [],
   "source": [
    "import pandas as pd\n",
    "import pyautogui as gui\n",
    "import pyperclip as clip\n",
    "import time\n",
    "from babel.numbers import format_decimal\n",
    "import emoji as em\n",
    "\n",
    "# pyautogui.click = clicar\n",
    "# pyautogui.write = escrever\n",
    "# pyautogui.press = pressiona tecla\n",
    "# pyautogui.hotkey = precina um ataclho ex: ctrl + c\n",
    "# pyautogui.size = recebe o tamanho da tela\n",
    "# pyautogui.position = recebe a posição XY do mouse\n",
    "\n",
    "# definindo delay em todos os comandos (em segundos)\n",
    "gui.PAUSE = 0.8\n",
    "\n",
    "# Passo 1: acessar o sistema da empresa (check)\n",
    "time.sleep(1) # delay para não ser pressionado ctrl + shift + t\n",
    "gui.hotkey(\"ctrl\", \"t\")\n",
    "gui.write(\"https://pages.hashtagtreinamentos.com/aula1-intensivao-sistema\")\n",
    "gui.press(\"enter\")\n",
    "\n",
    "time.sleep(3.5) # defininco delay de 2 segundos\n",
    "\n",
    "# Passo 2: Fazer login no sistema\n",
    "\n",
    "gui.click(975, 471)\n",
    "gui.write(\"login\")\n",
    "gui.press(\"tab\")\n",
    "gui.write(\"senha123\")\n",
    "gui.press(\"tab\")\n",
    "gui.press(\"enter\")\n",
    "    \n",
    "# Passo 3: Baixar a base de dados\n",
    "\n",
    "time.sleep(4)\n",
    "gui.click(786, 444)\n",
    "time.sleep(6)\n",
    "gui.click(1653, 433)\n",
    "time.sleep(3)\n",
    "\n",
    "# Passo 4: Calcular os indicadores\n",
    "\n",
    "tabela = pd.read_csv(r\"C:\\Users\\jpcal\\Downloads\\Compras.csv\", sep=';')\n",
    "\n",
    "# Passo A: Total gasto -> somar ValorFinal\n",
    "totalGasto = tabela[\"ValorFinal\"].sum()\n",
    "\n",
    "# Passo B: Quantidade -> somar Quantidade\n",
    "quantidade = tabela[\"Quantidade\"].sum()\n",
    "\n",
    "# Passo C: Preço médio -> totalGasto / quantidade\n",
    "precoMedio = totalGasto / quantidade\n",
    "\n",
    "# Passo 5: Enviar um email para a diretoria / para o chefe\n",
    "\n",
    "# Acessando o email\n",
    "gui.hotkey(\"ctrl\", \"t\")\n",
    "gui.write(\"mail\")\n",
    "gui.press(\"enter\")\n",
    "time.sleep(5)\n",
    "gui.click(166, 248)\n",
    "time.sleep(5)\n",
    "\n",
    "# Escrevendo elementos pré-textuais\n",
    "gui.write(r\"jpcalmeida2002@gmail.com\")\n",
    "gui.press(\"tab\")\n",
    "gui.press(\"tab\")\n",
    "gui.write(\"Relatório de Desempenho\")\n",
    "gui.press(\"tab\")\n",
    "\n",
    "# Formatando o resultado do indicadores\n",
    "\n",
    "totalGastoForm = format_decimal(totalGasto, locale='pt_BR')\n",
    "quantidadeForm = format_decimal(quantidade, locale='pt_BR')\n",
    "precoMedioForm = format_decimal(precoMedio, locale='pt_BR')\n",
    "\n",
    "# Escrevendo o texto\n",
    "\n",
    "texto = \"Bom dia, prezado!\\n\\nSegue o relatório de desempenho: \\n\\nTotal gasto: R$\" + totalGastoForm + \"\\nQuantidade: \" + quantidadeForm + \"\\nPreço médio: R$\" + precoMedioForm + \"\\n\\nQualquer coisa estou a disposição.\\n\\nATT.\\nJoão Pedro\"\n",
    "\n",
    "clip.copy(texto)\n",
    "time.sleep(0.5)\n",
    "gui.hotkey(\"ctrl\", \"v\")\n",
    "time.sleep(0.5)\n",
    "gui.click(1169,1040)\n",
    "gui.press(\"win\")\n",
    "gui.write(\"Fim do processo, Automação feita com sucesso!!\" + em.emojize(\"💙\"))\n"
   ]
  },
  {
   "cell_type": "markdown",
   "id": "8b816a2c",
   "metadata": {},
   "source": [
    "### Obs \n",
    "\n",
    "O código imediatamente abaixo foi utilizado para itentificar a posição (x, y) do mouse para serem inseridas no codigo main."
   ]
  },
  {
   "cell_type": "code",
   "execution_count": 5,
   "id": "c875873f",
   "metadata": {},
   "outputs": [
    {
     "name": "stdout",
     "output_type": "stream",
     "text": [
      "Point(x=1653, y=433)\n"
     ]
    }
   ],
   "source": [
    "import pyautogui # evitando problema de importação ao reiniciar jupyter\n",
    "print(pyautogui.position()) # pegando posição do mouse"
   ]
  },
  {
   "cell_type": "markdown",
   "id": "2a776804",
   "metadata": {},
   "source": [
    "### Config ambiente"
   ]
  },
  {
   "cell_type": "code",
   "execution_count": 3,
   "id": "6e539f4b",
   "metadata": {
    "scrolled": false
   },
   "outputs": [
    {
     "name": "stdout",
     "output_type": "stream",
     "text": [
      "Requirement already satisfied: pyautogui in c:\\users\\jpcal\\anaconda3\\lib\\site-packages (0.9.53)\n",
      "Requirement already satisfied: pymsgbox in c:\\users\\jpcal\\anaconda3\\lib\\site-packages (from pyautogui) (1.0.9)\n",
      "Requirement already satisfied: pygetwindow>=0.0.5 in c:\\users\\jpcal\\anaconda3\\lib\\site-packages (from pyautogui) (0.0.9)\n",
      "Requirement already satisfied: pyscreeze>=0.1.21 in c:\\users\\jpcal\\anaconda3\\lib\\site-packages (from pyautogui) (0.1.28)\n",
      "Requirement already satisfied: mouseinfo in c:\\users\\jpcal\\anaconda3\\lib\\site-packages (from pyautogui) (0.1.3)\n",
      "Requirement already satisfied: PyTweening>=1.0.1 in c:\\users\\jpcal\\anaconda3\\lib\\site-packages (from pyautogui) (1.0.7)\n",
      "Requirement already satisfied: pyrect in c:\\users\\jpcal\\anaconda3\\lib\\site-packages (from pygetwindow>=0.0.5->pyautogui) (0.2.0)\n",
      "Requirement already satisfied: pyperclip in c:\\users\\jpcal\\anaconda3\\lib\\site-packages (from mouseinfo->pyautogui) (1.8.2)\n",
      "Requirement already satisfied: babel in c:\\users\\jpcal\\anaconda3\\lib\\site-packages (2.11.0)\n",
      "Requirement already satisfied: pytz>=2015.7 in c:\\users\\jpcal\\anaconda3\\lib\\site-packages (from babel) (2022.7)\n",
      "Requirement already satisfied: emoji in c:\\users\\jpcal\\anaconda3\\lib\\site-packages (2.2.0)\n",
      "Requirement already satisfied: pandas in c:\\users\\jpcal\\anaconda3\\lib\\site-packages (1.5.3)\n",
      "Requirement already satisfied: python-dateutil>=2.8.1 in c:\\users\\jpcal\\anaconda3\\lib\\site-packages (from pandas) (2.8.2)\n",
      "Requirement already satisfied: numpy>=1.21.0 in c:\\users\\jpcal\\anaconda3\\lib\\site-packages (from pandas) (1.23.5)\n",
      "Requirement already satisfied: pytz>=2020.1 in c:\\users\\jpcal\\anaconda3\\lib\\site-packages (from pandas) (2022.7)\n",
      "Requirement already satisfied: six>=1.5 in c:\\users\\jpcal\\anaconda3\\lib\\site-packages (from python-dateutil>=2.8.1->pandas) (1.16.0)\n"
     ]
    }
   ],
   "source": [
    "!pip install pyautogui\n",
    "!pip install babel\n",
    "!pip install emoji\n",
    "!pip install pandas"
   ]
  },
  {
   "cell_type": "code",
   "execution_count": null,
   "id": "11e741d1",
   "metadata": {},
   "outputs": [],
   "source": []
  }
 ],
 "metadata": {
  "kernelspec": {
   "display_name": "Python 3 (ipykernel)",
   "language": "python",
   "name": "python3"
  },
  "language_info": {
   "codemirror_mode": {
    "name": "ipython",
    "version": 3
   },
   "file_extension": ".py",
   "mimetype": "text/x-python",
   "name": "python",
   "nbconvert_exporter": "python",
   "pygments_lexer": "ipython3",
   "version": "3.10.9"
  }
 },
 "nbformat": 4,
 "nbformat_minor": 5
}
